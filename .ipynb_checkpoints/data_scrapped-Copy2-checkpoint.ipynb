{
 "cells": [
  {
   "cell_type": "code",
   "execution_count": 158,
   "metadata": {
    "pycharm": {
     "name": "#%%\n"
    }
   },
   "outputs": [],
   "source": [
    "import requests \n",
    "from  bs4 import BeautifulSoup\n",
    "import pandas"
   ]
  },
  {
   "cell_type": "code",
   "execution_count": 1,
   "metadata": {
    "pycharm": {
     "name": "#%%\n"
    }
   },
   "outputs": [
    {
     "ename": "SyntaxError",
     "evalue": "invalid syntax (<ipython-input-1-76f05bfade80>, line 28)",
     "output_type": "error",
     "traceback": [
      "\u001b[1;36m  File \u001b[1;32m\"<ipython-input-1-76f05bfade80>\"\u001b[1;36m, line \u001b[1;32m28\u001b[0m\n\u001b[1;33m    print(url)\u001b[0m\n\u001b[1;37m    ^\u001b[0m\n\u001b[1;31mSyntaxError\u001b[0m\u001b[1;31m:\u001b[0m invalid syntax\n"
     ]
    }
   ],
   "source": [
    "#create a request.get object and pass the url\n",
    "#req = requests.get(\"https://www.zoopla.co.uk/for-sale/property/london/?search_source=refine&pn=2\")\n",
    "#gets the content of the page\n",
    "#cont = req.content\n",
    "#creates a beautiful soup page with readable content\n",
    "#soup = BeautifulSoup(cont, \"html.parser\")\n",
    "#gets the details of each property listed\n",
    "\n",
    "#each page view is stored in the prop variable\n",
    "#prop=soup.find(\"div\", {\"data-testid\":\"regular-listings\"})\n",
    "#gets the listed price for each property\n",
    "#print(prop)\n",
    "#prop_price = soup.find(\"div\",{\"data-testid\":\"listing-price\"})\n",
    "\n",
    "#print(prop_price)\n",
    "#create an empty list to store the scrapped data\n",
    " \n",
    "base_url = [\"https://www.zoopla.co.uk/for-sale/property/london/?search_source=refine&pn=2\",\n",
    "            \"https://www.zoopla.co.uk/for-sale/property/liverpool/?search_source=refine&pn=2\",\n",
    "            \"https://www.zoopla.co.uk/for-sale/property/edinburgh/?search_source=refine&pn=2\",\n",
    "            \"https://www.zoopla.co.uk/for-sale/property/manchester/?search_source=refine&pn=2\"]\n",
    "\n",
    "pages = range(2,41,1)\n",
    "\n",
    "prop_csv = []\n",
    "for url in base_url:\n",
    "    url[-1]= str(int(url[-1]+1)\n",
    "    \n",
    "    \n",
    "    try:\n",
    "        prop=soup.find(\"div\", {\"data-testid\":\"regular-listings\"})\n",
    "    except:\n",
    "        pass\n",
    "        \n",
    "    for item in prop:     \n",
    "        d = {}\n",
    "        try:\n",
    "            d[\"prop_price\"]= item.find(\"div\",{\"data-testid\":\"listing-price\"}).text\n",
    "        except:\n",
    "            pass\n",
    "        try:\n",
    "            d[\"prop_desc\"] = item.find(\"h2\", {\"data-testid\":\"listing-title\"}).text\n",
    "        except:\n",
    "            pass\n",
    "        try:\n",
    "            d[\"date_published\"] = item.find(\"span\",{\"data-testid\":\"date-published\"}).text\n",
    "        except:\n",
    "            pass\n",
    "        try:\n",
    "            d[\"prop_address\"] = item.find(\"p\",{\"data-testid\":\"listing-description\"}).text\n",
    "        except:\n",
    "            pass\n",
    "\n",
    "        prop_csv.append(d)\n",
    "\n",
    "            \n",
    "#df = pandas.DataFrame(prop_csv)\n",
    "#df.to_csv(\"cities_data1\")"
   ]
  },
  {
   "cell_type": "code",
   "execution_count": null,
   "metadata": {},
   "outputs": [],
   "source": []
  },
  {
   "cell_type": "code",
   "execution_count": 5,
   "metadata": {
    "scrolled": true
   },
   "outputs": [
    {
     "ename": "SyntaxError",
     "evalue": "invalid syntax (<ipython-input-5-fc8a16818824>, line 6)",
     "output_type": "error",
     "traceback": [
      "\u001b[1;36m  File \u001b[1;32m\"<ipython-input-5-fc8a16818824>\"\u001b[1;36m, line \u001b[1;32m6\u001b[0m\n\u001b[1;33m    print(url)\u001b[0m\n\u001b[1;37m    ^\u001b[0m\n\u001b[1;31mSyntaxError\u001b[0m\u001b[1;31m:\u001b[0m invalid syntax\n"
     ]
    }
   ],
   "source": [
    "base_url = [\"https://www.zoopla.co.uk/for-sale/property/london/?search_source=refine&pn=2\",\n",
    "            \"https://www.zoopla.co.uk/for-sale/property/liverpool/?search_source=refine&pn=2\"]\n",
    "\n",
    "for url in base_url:\n",
    "    url[-1]= str(int(url[-1]+1)\n",
    "        print(url)"
   ]
  }
 ],
 "metadata": {
  "kernelspec": {
   "display_name": "Python 3",
   "language": "python",
   "name": "python3"
  },
  "language_info": {
   "codemirror_mode": {
    "name": "ipython",
    "version": 3
   },
   "file_extension": ".py",
   "mimetype": "text/x-python",
   "name": "python",
   "nbconvert_exporter": "python",
   "pygments_lexer": "ipython3",
   "version": "3.8.8"
  }
 },
 "nbformat": 4,
 "nbformat_minor": 1
}
