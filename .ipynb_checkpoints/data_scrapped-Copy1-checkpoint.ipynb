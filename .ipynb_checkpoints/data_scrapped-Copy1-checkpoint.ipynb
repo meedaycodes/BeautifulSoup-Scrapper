{
 "cells": [
  {
   "cell_type": "code",
   "execution_count": 2,
   "metadata": {
    "pycharm": {
     "name": "#%%\n"
    }
   },
   "outputs": [],
   "source": [
    "import requests \n",
    "from  bs4 import BeautifulSoup\n",
    "import pandas"
   ]
  },
  {
   "cell_type": "code",
   "execution_count": 12,
   "metadata": {
    "pycharm": {
     "name": "#%%\n"
    }
   },
   "outputs": [
    {
     "ename": "IndentationError",
     "evalue": "expected an indented block (<ipython-input-12-9f333cbd1fc6>, line 26)",
     "output_type": "error",
     "traceback": [
      "\u001b[1;36m  File \u001b[1;32m\"<ipython-input-12-9f333cbd1fc6>\"\u001b[1;36m, line \u001b[1;32m26\u001b[0m\n\u001b[1;33m    except:\u001b[0m\n\u001b[1;37m           ^\u001b[0m\n\u001b[1;31mIndentationError\u001b[0m\u001b[1;31m:\u001b[0m expected an indented block\n"
     ]
    }
   ],
   "source": [
    "#create a request.get object and pass the url\n",
    "#req = requests.get(\"https://www.zoopla.co.uk/for-sale/property/london/?search_source=refine&pn=2\")\n",
    "#gets the content of the page\n",
    "#cont = req.content\n",
    "#creates a beautiful soup page with readable content\n",
    "#soup = BeautifulSoup(cont, \"html.parser\")\n",
    "#gets the details of each property listed\n",
    "\n",
    "#each page view is stored in the prop variable\n",
    "#prop=soup.find(\"div\", {\"data-testid\":\"regular-listings\"})\n",
    "#gets the listed price for each property\n",
    "#print(prop)\n",
    "#prop_price = soup.find(\"div\",{\"data-testid\":\"listing-price\"})\n",
    "\n",
    "#print(prop_price)\n",
    "#create an empty list to store the scrapped data\n",
    "prop_csv = [] \n",
    "base_url = \"https://www.zoopla.co.uk/for-sale/property/liverpool/?search_source=refine&pn=1\"\n",
    "for page in range(0,41,1):\n",
    "    req = requests.get(base_url + str(page))\n",
    "    cont = req.content\n",
    "    soup = BeautifulSoup(cont,\"html.parser\")\n",
    "    prop=soup.find(\"div\", {\"data-testid\":\"regular-listings\"})\n",
    "try:\n",
    "    for item in prop:\n",
    "        d={}\n",
    "except:\n",
    "    pass\n",
    "    try:\n",
    "        d[\"prop_price\"]= item.find(\"div\",{\"data-testid\":\"listing-price\"}).text\n",
    "    except:\n",
    "        pass\n",
    "    try:\n",
    "        d[\"prop_desc\"] = item.find(\"h2\", {\"data-testid\":\"listing-title\"}).text\n",
    "    except:\n",
    "        pass\n",
    "    try:\n",
    "        d[\"date_published\"] = item.find(\"span\",{\"data-testid\":\"date-published\"}).text\n",
    "    except:\n",
    "        pass\n",
    "    try:\n",
    "        d[\"prop_address\"] = item.find(\"p\",{\"data-testid\":\"listing-description\"}).text\n",
    "    except:\n",
    "        pass\n",
    "\n",
    "    prop_csv.append(d)\n",
    "\n",
    "            \n",
    "df = pandas.DataFrame(prop_csv)\n",
    "df.to_csv(\"cities_data_1\")"
   ]
  }
 ],
 "metadata": {
  "kernelspec": {
   "display_name": "Python 3",
   "language": "python",
   "name": "python3"
  },
  "language_info": {
   "codemirror_mode": {
    "name": "ipython",
    "version": 3
   },
   "file_extension": ".py",
   "mimetype": "text/x-python",
   "name": "python",
   "nbconvert_exporter": "python",
   "pygments_lexer": "ipython3",
   "version": "3.8.8"
  }
 },
 "nbformat": 4,
 "nbformat_minor": 1
}
